{
  "nbformat": 4,
  "nbformat_minor": 0,
  "metadata": {
    "colab": {
      "name": "MNIST_CNN.ipynb",
      "provenance": []
    },
    "kernelspec": {
      "name": "python3",
      "display_name": "Python 3"
    },
    "language_info": {
      "name": "python"
    },
    "accelerator": "GPU",
    "widgets": {
      "application/vnd.jupyter.widget-state+json": {
        "083f5a665eb445e493c45f62a40005a2": {
          "model_module": "@jupyter-widgets/controls",
          "model_name": "HBoxModel",
          "state": {
            "_view_name": "HBoxView",
            "_dom_classes": [],
            "_model_name": "HBoxModel",
            "_view_module": "@jupyter-widgets/controls",
            "_model_module_version": "1.5.0",
            "_view_count": null,
            "_view_module_version": "1.5.0",
            "box_style": "",
            "layout": "IPY_MODEL_c67e0aec991a41d7a00404d3c239ebcf",
            "_model_module": "@jupyter-widgets/controls",
            "children": [
              "IPY_MODEL_0a83ab401f864077a349dd0f04e6a0f2",
              "IPY_MODEL_b16a59392c854a99bbe554c90df93beb"
            ]
          }
        },
        "c67e0aec991a41d7a00404d3c239ebcf": {
          "model_module": "@jupyter-widgets/base",
          "model_name": "LayoutModel",
          "state": {
            "_view_name": "LayoutView",
            "grid_template_rows": null,
            "right": null,
            "justify_content": null,
            "_view_module": "@jupyter-widgets/base",
            "overflow": null,
            "_model_module_version": "1.2.0",
            "_view_count": null,
            "flex_flow": null,
            "width": null,
            "min_width": null,
            "border": null,
            "align_items": null,
            "bottom": null,
            "_model_module": "@jupyter-widgets/base",
            "top": null,
            "grid_column": null,
            "overflow_y": null,
            "overflow_x": null,
            "grid_auto_flow": null,
            "grid_area": null,
            "grid_template_columns": null,
            "flex": null,
            "_model_name": "LayoutModel",
            "justify_items": null,
            "grid_row": null,
            "max_height": null,
            "align_content": null,
            "visibility": null,
            "align_self": null,
            "height": null,
            "min_height": null,
            "padding": null,
            "grid_auto_rows": null,
            "grid_gap": null,
            "max_width": null,
            "order": null,
            "_view_module_version": "1.2.0",
            "grid_template_areas": null,
            "object_position": null,
            "object_fit": null,
            "grid_auto_columns": null,
            "margin": null,
            "display": null,
            "left": null
          }
        },
        "0a83ab401f864077a349dd0f04e6a0f2": {
          "model_module": "@jupyter-widgets/controls",
          "model_name": "FloatProgressModel",
          "state": {
            "_view_name": "ProgressView",
            "style": "IPY_MODEL_bc586d9b3589474c81c4b7fee0538a07",
            "_dom_classes": [],
            "description": "",
            "_model_name": "FloatProgressModel",
            "bar_style": "success",
            "max": 9912422,
            "_view_module": "@jupyter-widgets/controls",
            "_model_module_version": "1.5.0",
            "value": 9912422,
            "_view_count": null,
            "_view_module_version": "1.5.0",
            "orientation": "horizontal",
            "min": 0,
            "description_tooltip": null,
            "_model_module": "@jupyter-widgets/controls",
            "layout": "IPY_MODEL_f995c1f1861a448c971cd90a2dc98458"
          }
        },
        "b16a59392c854a99bbe554c90df93beb": {
          "model_module": "@jupyter-widgets/controls",
          "model_name": "HTMLModel",
          "state": {
            "_view_name": "HTMLView",
            "style": "IPY_MODEL_bba2f224b10148fa820f6b1c387275e7",
            "_dom_classes": [],
            "description": "",
            "_model_name": "HTMLModel",
            "placeholder": "​",
            "_view_module": "@jupyter-widgets/controls",
            "_model_module_version": "1.5.0",
            "value": " 9913344/? [00:01&lt;00:00, 6715892.01it/s]",
            "_view_count": null,
            "_view_module_version": "1.5.0",
            "description_tooltip": null,
            "_model_module": "@jupyter-widgets/controls",
            "layout": "IPY_MODEL_6f350f2fe36a415fbf5eb95334737ecf"
          }
        },
        "bc586d9b3589474c81c4b7fee0538a07": {
          "model_module": "@jupyter-widgets/controls",
          "model_name": "ProgressStyleModel",
          "state": {
            "_view_name": "StyleView",
            "_model_name": "ProgressStyleModel",
            "description_width": "initial",
            "_view_module": "@jupyter-widgets/base",
            "_model_module_version": "1.5.0",
            "_view_count": null,
            "_view_module_version": "1.2.0",
            "bar_color": null,
            "_model_module": "@jupyter-widgets/controls"
          }
        },
        "f995c1f1861a448c971cd90a2dc98458": {
          "model_module": "@jupyter-widgets/base",
          "model_name": "LayoutModel",
          "state": {
            "_view_name": "LayoutView",
            "grid_template_rows": null,
            "right": null,
            "justify_content": null,
            "_view_module": "@jupyter-widgets/base",
            "overflow": null,
            "_model_module_version": "1.2.0",
            "_view_count": null,
            "flex_flow": null,
            "width": null,
            "min_width": null,
            "border": null,
            "align_items": null,
            "bottom": null,
            "_model_module": "@jupyter-widgets/base",
            "top": null,
            "grid_column": null,
            "overflow_y": null,
            "overflow_x": null,
            "grid_auto_flow": null,
            "grid_area": null,
            "grid_template_columns": null,
            "flex": null,
            "_model_name": "LayoutModel",
            "justify_items": null,
            "grid_row": null,
            "max_height": null,
            "align_content": null,
            "visibility": null,
            "align_self": null,
            "height": null,
            "min_height": null,
            "padding": null,
            "grid_auto_rows": null,
            "grid_gap": null,
            "max_width": null,
            "order": null,
            "_view_module_version": "1.2.0",
            "grid_template_areas": null,
            "object_position": null,
            "object_fit": null,
            "grid_auto_columns": null,
            "margin": null,
            "display": null,
            "left": null
          }
        },
        "bba2f224b10148fa820f6b1c387275e7": {
          "model_module": "@jupyter-widgets/controls",
          "model_name": "DescriptionStyleModel",
          "state": {
            "_view_name": "StyleView",
            "_model_name": "DescriptionStyleModel",
            "description_width": "",
            "_view_module": "@jupyter-widgets/base",
            "_model_module_version": "1.5.0",
            "_view_count": null,
            "_view_module_version": "1.2.0",
            "_model_module": "@jupyter-widgets/controls"
          }
        },
        "6f350f2fe36a415fbf5eb95334737ecf": {
          "model_module": "@jupyter-widgets/base",
          "model_name": "LayoutModel",
          "state": {
            "_view_name": "LayoutView",
            "grid_template_rows": null,
            "right": null,
            "justify_content": null,
            "_view_module": "@jupyter-widgets/base",
            "overflow": null,
            "_model_module_version": "1.2.0",
            "_view_count": null,
            "flex_flow": null,
            "width": null,
            "min_width": null,
            "border": null,
            "align_items": null,
            "bottom": null,
            "_model_module": "@jupyter-widgets/base",
            "top": null,
            "grid_column": null,
            "overflow_y": null,
            "overflow_x": null,
            "grid_auto_flow": null,
            "grid_area": null,
            "grid_template_columns": null,
            "flex": null,
            "_model_name": "LayoutModel",
            "justify_items": null,
            "grid_row": null,
            "max_height": null,
            "align_content": null,
            "visibility": null,
            "align_self": null,
            "height": null,
            "min_height": null,
            "padding": null,
            "grid_auto_rows": null,
            "grid_gap": null,
            "max_width": null,
            "order": null,
            "_view_module_version": "1.2.0",
            "grid_template_areas": null,
            "object_position": null,
            "object_fit": null,
            "grid_auto_columns": null,
            "margin": null,
            "display": null,
            "left": null
          }
        },
        "7fe750db80144996917d69ac93dc3ded": {
          "model_module": "@jupyter-widgets/controls",
          "model_name": "HBoxModel",
          "state": {
            "_view_name": "HBoxView",
            "_dom_classes": [],
            "_model_name": "HBoxModel",
            "_view_module": "@jupyter-widgets/controls",
            "_model_module_version": "1.5.0",
            "_view_count": null,
            "_view_module_version": "1.5.0",
            "box_style": "",
            "layout": "IPY_MODEL_6ee73636e7014b6ba013c18072f08132",
            "_model_module": "@jupyter-widgets/controls",
            "children": [
              "IPY_MODEL_1930602d24b8485fa76d8125d18ac2d3",
              "IPY_MODEL_3d4e864cf57e461ca0419c9b73316cab"
            ]
          }
        },
        "6ee73636e7014b6ba013c18072f08132": {
          "model_module": "@jupyter-widgets/base",
          "model_name": "LayoutModel",
          "state": {
            "_view_name": "LayoutView",
            "grid_template_rows": null,
            "right": null,
            "justify_content": null,
            "_view_module": "@jupyter-widgets/base",
            "overflow": null,
            "_model_module_version": "1.2.0",
            "_view_count": null,
            "flex_flow": null,
            "width": null,
            "min_width": null,
            "border": null,
            "align_items": null,
            "bottom": null,
            "_model_module": "@jupyter-widgets/base",
            "top": null,
            "grid_column": null,
            "overflow_y": null,
            "overflow_x": null,
            "grid_auto_flow": null,
            "grid_area": null,
            "grid_template_columns": null,
            "flex": null,
            "_model_name": "LayoutModel",
            "justify_items": null,
            "grid_row": null,
            "max_height": null,
            "align_content": null,
            "visibility": null,
            "align_self": null,
            "height": null,
            "min_height": null,
            "padding": null,
            "grid_auto_rows": null,
            "grid_gap": null,
            "max_width": null,
            "order": null,
            "_view_module_version": "1.2.0",
            "grid_template_areas": null,
            "object_position": null,
            "object_fit": null,
            "grid_auto_columns": null,
            "margin": null,
            "display": null,
            "left": null
          }
        },
        "1930602d24b8485fa76d8125d18ac2d3": {
          "model_module": "@jupyter-widgets/controls",
          "model_name": "FloatProgressModel",
          "state": {
            "_view_name": "ProgressView",
            "style": "IPY_MODEL_461f30e8fd22463a9fa61db3fc0612c1",
            "_dom_classes": [],
            "description": "",
            "_model_name": "FloatProgressModel",
            "bar_style": "success",
            "max": 28881,
            "_view_module": "@jupyter-widgets/controls",
            "_model_module_version": "1.5.0",
            "value": 28881,
            "_view_count": null,
            "_view_module_version": "1.5.0",
            "orientation": "horizontal",
            "min": 0,
            "description_tooltip": null,
            "_model_module": "@jupyter-widgets/controls",
            "layout": "IPY_MODEL_6bfed932550547418bbd69c83ddca3a0"
          }
        },
        "3d4e864cf57e461ca0419c9b73316cab": {
          "model_module": "@jupyter-widgets/controls",
          "model_name": "HTMLModel",
          "state": {
            "_view_name": "HTMLView",
            "style": "IPY_MODEL_f1b257797cf14d92a7f673b84abfdb6f",
            "_dom_classes": [],
            "description": "",
            "_model_name": "HTMLModel",
            "placeholder": "​",
            "_view_module": "@jupyter-widgets/controls",
            "_model_module_version": "1.5.0",
            "value": " 29696/? [00:00&lt;00:00, 59607.79it/s]",
            "_view_count": null,
            "_view_module_version": "1.5.0",
            "description_tooltip": null,
            "_model_module": "@jupyter-widgets/controls",
            "layout": "IPY_MODEL_62b4e5a22fbf426498f52e822643e2d0"
          }
        },
        "461f30e8fd22463a9fa61db3fc0612c1": {
          "model_module": "@jupyter-widgets/controls",
          "model_name": "ProgressStyleModel",
          "state": {
            "_view_name": "StyleView",
            "_model_name": "ProgressStyleModel",
            "description_width": "initial",
            "_view_module": "@jupyter-widgets/base",
            "_model_module_version": "1.5.0",
            "_view_count": null,
            "_view_module_version": "1.2.0",
            "bar_color": null,
            "_model_module": "@jupyter-widgets/controls"
          }
        },
        "6bfed932550547418bbd69c83ddca3a0": {
          "model_module": "@jupyter-widgets/base",
          "model_name": "LayoutModel",
          "state": {
            "_view_name": "LayoutView",
            "grid_template_rows": null,
            "right": null,
            "justify_content": null,
            "_view_module": "@jupyter-widgets/base",
            "overflow": null,
            "_model_module_version": "1.2.0",
            "_view_count": null,
            "flex_flow": null,
            "width": null,
            "min_width": null,
            "border": null,
            "align_items": null,
            "bottom": null,
            "_model_module": "@jupyter-widgets/base",
            "top": null,
            "grid_column": null,
            "overflow_y": null,
            "overflow_x": null,
            "grid_auto_flow": null,
            "grid_area": null,
            "grid_template_columns": null,
            "flex": null,
            "_model_name": "LayoutModel",
            "justify_items": null,
            "grid_row": null,
            "max_height": null,
            "align_content": null,
            "visibility": null,
            "align_self": null,
            "height": null,
            "min_height": null,
            "padding": null,
            "grid_auto_rows": null,
            "grid_gap": null,
            "max_width": null,
            "order": null,
            "_view_module_version": "1.2.0",
            "grid_template_areas": null,
            "object_position": null,
            "object_fit": null,
            "grid_auto_columns": null,
            "margin": null,
            "display": null,
            "left": null
          }
        },
        "f1b257797cf14d92a7f673b84abfdb6f": {
          "model_module": "@jupyter-widgets/controls",
          "model_name": "DescriptionStyleModel",
          "state": {
            "_view_name": "StyleView",
            "_model_name": "DescriptionStyleModel",
            "description_width": "",
            "_view_module": "@jupyter-widgets/base",
            "_model_module_version": "1.5.0",
            "_view_count": null,
            "_view_module_version": "1.2.0",
            "_model_module": "@jupyter-widgets/controls"
          }
        },
        "62b4e5a22fbf426498f52e822643e2d0": {
          "model_module": "@jupyter-widgets/base",
          "model_name": "LayoutModel",
          "state": {
            "_view_name": "LayoutView",
            "grid_template_rows": null,
            "right": null,
            "justify_content": null,
            "_view_module": "@jupyter-widgets/base",
            "overflow": null,
            "_model_module_version": "1.2.0",
            "_view_count": null,
            "flex_flow": null,
            "width": null,
            "min_width": null,
            "border": null,
            "align_items": null,
            "bottom": null,
            "_model_module": "@jupyter-widgets/base",
            "top": null,
            "grid_column": null,
            "overflow_y": null,
            "overflow_x": null,
            "grid_auto_flow": null,
            "grid_area": null,
            "grid_template_columns": null,
            "flex": null,
            "_model_name": "LayoutModel",
            "justify_items": null,
            "grid_row": null,
            "max_height": null,
            "align_content": null,
            "visibility": null,
            "align_self": null,
            "height": null,
            "min_height": null,
            "padding": null,
            "grid_auto_rows": null,
            "grid_gap": null,
            "max_width": null,
            "order": null,
            "_view_module_version": "1.2.0",
            "grid_template_areas": null,
            "object_position": null,
            "object_fit": null,
            "grid_auto_columns": null,
            "margin": null,
            "display": null,
            "left": null
          }
        },
        "bcf5bfbb980c4d258ec0fec1be2d8432": {
          "model_module": "@jupyter-widgets/controls",
          "model_name": "HBoxModel",
          "state": {
            "_view_name": "HBoxView",
            "_dom_classes": [],
            "_model_name": "HBoxModel",
            "_view_module": "@jupyter-widgets/controls",
            "_model_module_version": "1.5.0",
            "_view_count": null,
            "_view_module_version": "1.5.0",
            "box_style": "",
            "layout": "IPY_MODEL_2d029f9183ea4dc39f1b8844d94d9a99",
            "_model_module": "@jupyter-widgets/controls",
            "children": [
              "IPY_MODEL_96d9094afd4240dabb249db60d0fd06a",
              "IPY_MODEL_e1838a464a2b4c939edb5de121211f96"
            ]
          }
        },
        "2d029f9183ea4dc39f1b8844d94d9a99": {
          "model_module": "@jupyter-widgets/base",
          "model_name": "LayoutModel",
          "state": {
            "_view_name": "LayoutView",
            "grid_template_rows": null,
            "right": null,
            "justify_content": null,
            "_view_module": "@jupyter-widgets/base",
            "overflow": null,
            "_model_module_version": "1.2.0",
            "_view_count": null,
            "flex_flow": null,
            "width": null,
            "min_width": null,
            "border": null,
            "align_items": null,
            "bottom": null,
            "_model_module": "@jupyter-widgets/base",
            "top": null,
            "grid_column": null,
            "overflow_y": null,
            "overflow_x": null,
            "grid_auto_flow": null,
            "grid_area": null,
            "grid_template_columns": null,
            "flex": null,
            "_model_name": "LayoutModel",
            "justify_items": null,
            "grid_row": null,
            "max_height": null,
            "align_content": null,
            "visibility": null,
            "align_self": null,
            "height": null,
            "min_height": null,
            "padding": null,
            "grid_auto_rows": null,
            "grid_gap": null,
            "max_width": null,
            "order": null,
            "_view_module_version": "1.2.0",
            "grid_template_areas": null,
            "object_position": null,
            "object_fit": null,
            "grid_auto_columns": null,
            "margin": null,
            "display": null,
            "left": null
          }
        },
        "96d9094afd4240dabb249db60d0fd06a": {
          "model_module": "@jupyter-widgets/controls",
          "model_name": "FloatProgressModel",
          "state": {
            "_view_name": "ProgressView",
            "style": "IPY_MODEL_2f1d65defec2416593d6c7973504b86b",
            "_dom_classes": [],
            "description": "",
            "_model_name": "FloatProgressModel",
            "bar_style": "success",
            "max": 1648877,
            "_view_module": "@jupyter-widgets/controls",
            "_model_module_version": "1.5.0",
            "value": 1648877,
            "_view_count": null,
            "_view_module_version": "1.5.0",
            "orientation": "horizontal",
            "min": 0,
            "description_tooltip": null,
            "_model_module": "@jupyter-widgets/controls",
            "layout": "IPY_MODEL_622fa62d1da54526a6786262b5755da8"
          }
        },
        "e1838a464a2b4c939edb5de121211f96": {
          "model_module": "@jupyter-widgets/controls",
          "model_name": "HTMLModel",
          "state": {
            "_view_name": "HTMLView",
            "style": "IPY_MODEL_fb3854b8d11b4bc585a42a906a0dc529",
            "_dom_classes": [],
            "description": "",
            "_model_name": "HTMLModel",
            "placeholder": "​",
            "_view_module": "@jupyter-widgets/controls",
            "_model_module_version": "1.5.0",
            "value": " 1649664/? [00:00&lt;00:00, 4632219.32it/s]",
            "_view_count": null,
            "_view_module_version": "1.5.0",
            "description_tooltip": null,
            "_model_module": "@jupyter-widgets/controls",
            "layout": "IPY_MODEL_3c13f4101b454e61808422cf1148fcf9"
          }
        },
        "2f1d65defec2416593d6c7973504b86b": {
          "model_module": "@jupyter-widgets/controls",
          "model_name": "ProgressStyleModel",
          "state": {
            "_view_name": "StyleView",
            "_model_name": "ProgressStyleModel",
            "description_width": "initial",
            "_view_module": "@jupyter-widgets/base",
            "_model_module_version": "1.5.0",
            "_view_count": null,
            "_view_module_version": "1.2.0",
            "bar_color": null,
            "_model_module": "@jupyter-widgets/controls"
          }
        },
        "622fa62d1da54526a6786262b5755da8": {
          "model_module": "@jupyter-widgets/base",
          "model_name": "LayoutModel",
          "state": {
            "_view_name": "LayoutView",
            "grid_template_rows": null,
            "right": null,
            "justify_content": null,
            "_view_module": "@jupyter-widgets/base",
            "overflow": null,
            "_model_module_version": "1.2.0",
            "_view_count": null,
            "flex_flow": null,
            "width": null,
            "min_width": null,
            "border": null,
            "align_items": null,
            "bottom": null,
            "_model_module": "@jupyter-widgets/base",
            "top": null,
            "grid_column": null,
            "overflow_y": null,
            "overflow_x": null,
            "grid_auto_flow": null,
            "grid_area": null,
            "grid_template_columns": null,
            "flex": null,
            "_model_name": "LayoutModel",
            "justify_items": null,
            "grid_row": null,
            "max_height": null,
            "align_content": null,
            "visibility": null,
            "align_self": null,
            "height": null,
            "min_height": null,
            "padding": null,
            "grid_auto_rows": null,
            "grid_gap": null,
            "max_width": null,
            "order": null,
            "_view_module_version": "1.2.0",
            "grid_template_areas": null,
            "object_position": null,
            "object_fit": null,
            "grid_auto_columns": null,
            "margin": null,
            "display": null,
            "left": null
          }
        },
        "fb3854b8d11b4bc585a42a906a0dc529": {
          "model_module": "@jupyter-widgets/controls",
          "model_name": "DescriptionStyleModel",
          "state": {
            "_view_name": "StyleView",
            "_model_name": "DescriptionStyleModel",
            "description_width": "",
            "_view_module": "@jupyter-widgets/base",
            "_model_module_version": "1.5.0",
            "_view_count": null,
            "_view_module_version": "1.2.0",
            "_model_module": "@jupyter-widgets/controls"
          }
        },
        "3c13f4101b454e61808422cf1148fcf9": {
          "model_module": "@jupyter-widgets/base",
          "model_name": "LayoutModel",
          "state": {
            "_view_name": "LayoutView",
            "grid_template_rows": null,
            "right": null,
            "justify_content": null,
            "_view_module": "@jupyter-widgets/base",
            "overflow": null,
            "_model_module_version": "1.2.0",
            "_view_count": null,
            "flex_flow": null,
            "width": null,
            "min_width": null,
            "border": null,
            "align_items": null,
            "bottom": null,
            "_model_module": "@jupyter-widgets/base",
            "top": null,
            "grid_column": null,
            "overflow_y": null,
            "overflow_x": null,
            "grid_auto_flow": null,
            "grid_area": null,
            "grid_template_columns": null,
            "flex": null,
            "_model_name": "LayoutModel",
            "justify_items": null,
            "grid_row": null,
            "max_height": null,
            "align_content": null,
            "visibility": null,
            "align_self": null,
            "height": null,
            "min_height": null,
            "padding": null,
            "grid_auto_rows": null,
            "grid_gap": null,
            "max_width": null,
            "order": null,
            "_view_module_version": "1.2.0",
            "grid_template_areas": null,
            "object_position": null,
            "object_fit": null,
            "grid_auto_columns": null,
            "margin": null,
            "display": null,
            "left": null
          }
        },
        "2cdc342a1dc94ffdbf52b67de22760fc": {
          "model_module": "@jupyter-widgets/controls",
          "model_name": "HBoxModel",
          "state": {
            "_view_name": "HBoxView",
            "_dom_classes": [],
            "_model_name": "HBoxModel",
            "_view_module": "@jupyter-widgets/controls",
            "_model_module_version": "1.5.0",
            "_view_count": null,
            "_view_module_version": "1.5.0",
            "box_style": "",
            "layout": "IPY_MODEL_96785820fd654fac83cfc3e955e85e8d",
            "_model_module": "@jupyter-widgets/controls",
            "children": [
              "IPY_MODEL_c76e3b79ce5c4eb89d3d6e37a53a246c",
              "IPY_MODEL_0f25de1db77142dca5bcd3c45122e201"
            ]
          }
        },
        "96785820fd654fac83cfc3e955e85e8d": {
          "model_module": "@jupyter-widgets/base",
          "model_name": "LayoutModel",
          "state": {
            "_view_name": "LayoutView",
            "grid_template_rows": null,
            "right": null,
            "justify_content": null,
            "_view_module": "@jupyter-widgets/base",
            "overflow": null,
            "_model_module_version": "1.2.0",
            "_view_count": null,
            "flex_flow": null,
            "width": null,
            "min_width": null,
            "border": null,
            "align_items": null,
            "bottom": null,
            "_model_module": "@jupyter-widgets/base",
            "top": null,
            "grid_column": null,
            "overflow_y": null,
            "overflow_x": null,
            "grid_auto_flow": null,
            "grid_area": null,
            "grid_template_columns": null,
            "flex": null,
            "_model_name": "LayoutModel",
            "justify_items": null,
            "grid_row": null,
            "max_height": null,
            "align_content": null,
            "visibility": null,
            "align_self": null,
            "height": null,
            "min_height": null,
            "padding": null,
            "grid_auto_rows": null,
            "grid_gap": null,
            "max_width": null,
            "order": null,
            "_view_module_version": "1.2.0",
            "grid_template_areas": null,
            "object_position": null,
            "object_fit": null,
            "grid_auto_columns": null,
            "margin": null,
            "display": null,
            "left": null
          }
        },
        "c76e3b79ce5c4eb89d3d6e37a53a246c": {
          "model_module": "@jupyter-widgets/controls",
          "model_name": "FloatProgressModel",
          "state": {
            "_view_name": "ProgressView",
            "style": "IPY_MODEL_43e9013ad3ad4d4d9e965228766bbf7e",
            "_dom_classes": [],
            "description": "",
            "_model_name": "FloatProgressModel",
            "bar_style": "success",
            "max": 4542,
            "_view_module": "@jupyter-widgets/controls",
            "_model_module_version": "1.5.0",
            "value": 4542,
            "_view_count": null,
            "_view_module_version": "1.5.0",
            "orientation": "horizontal",
            "min": 0,
            "description_tooltip": null,
            "_model_module": "@jupyter-widgets/controls",
            "layout": "IPY_MODEL_4493c903ed15488b8f744cce737b005d"
          }
        },
        "0f25de1db77142dca5bcd3c45122e201": {
          "model_module": "@jupyter-widgets/controls",
          "model_name": "HTMLModel",
          "state": {
            "_view_name": "HTMLView",
            "style": "IPY_MODEL_63c5279592c248b58db1c3eab577db6f",
            "_dom_classes": [],
            "description": "",
            "_model_name": "HTMLModel",
            "placeholder": "​",
            "_view_module": "@jupyter-widgets/controls",
            "_model_module_version": "1.5.0",
            "value": " 5120/? [00:00&lt;00:00, 63076.87it/s]",
            "_view_count": null,
            "_view_module_version": "1.5.0",
            "description_tooltip": null,
            "_model_module": "@jupyter-widgets/controls",
            "layout": "IPY_MODEL_9f26d266d07243f482a1d9bbd3e6033a"
          }
        },
        "43e9013ad3ad4d4d9e965228766bbf7e": {
          "model_module": "@jupyter-widgets/controls",
          "model_name": "ProgressStyleModel",
          "state": {
            "_view_name": "StyleView",
            "_model_name": "ProgressStyleModel",
            "description_width": "initial",
            "_view_module": "@jupyter-widgets/base",
            "_model_module_version": "1.5.0",
            "_view_count": null,
            "_view_module_version": "1.2.0",
            "bar_color": null,
            "_model_module": "@jupyter-widgets/controls"
          }
        },
        "4493c903ed15488b8f744cce737b005d": {
          "model_module": "@jupyter-widgets/base",
          "model_name": "LayoutModel",
          "state": {
            "_view_name": "LayoutView",
            "grid_template_rows": null,
            "right": null,
            "justify_content": null,
            "_view_module": "@jupyter-widgets/base",
            "overflow": null,
            "_model_module_version": "1.2.0",
            "_view_count": null,
            "flex_flow": null,
            "width": null,
            "min_width": null,
            "border": null,
            "align_items": null,
            "bottom": null,
            "_model_module": "@jupyter-widgets/base",
            "top": null,
            "grid_column": null,
            "overflow_y": null,
            "overflow_x": null,
            "grid_auto_flow": null,
            "grid_area": null,
            "grid_template_columns": null,
            "flex": null,
            "_model_name": "LayoutModel",
            "justify_items": null,
            "grid_row": null,
            "max_height": null,
            "align_content": null,
            "visibility": null,
            "align_self": null,
            "height": null,
            "min_height": null,
            "padding": null,
            "grid_auto_rows": null,
            "grid_gap": null,
            "max_width": null,
            "order": null,
            "_view_module_version": "1.2.0",
            "grid_template_areas": null,
            "object_position": null,
            "object_fit": null,
            "grid_auto_columns": null,
            "margin": null,
            "display": null,
            "left": null
          }
        },
        "63c5279592c248b58db1c3eab577db6f": {
          "model_module": "@jupyter-widgets/controls",
          "model_name": "DescriptionStyleModel",
          "state": {
            "_view_name": "StyleView",
            "_model_name": "DescriptionStyleModel",
            "description_width": "",
            "_view_module": "@jupyter-widgets/base",
            "_model_module_version": "1.5.0",
            "_view_count": null,
            "_view_module_version": "1.2.0",
            "_model_module": "@jupyter-widgets/controls"
          }
        },
        "9f26d266d07243f482a1d9bbd3e6033a": {
          "model_module": "@jupyter-widgets/base",
          "model_name": "LayoutModel",
          "state": {
            "_view_name": "LayoutView",
            "grid_template_rows": null,
            "right": null,
            "justify_content": null,
            "_view_module": "@jupyter-widgets/base",
            "overflow": null,
            "_model_module_version": "1.2.0",
            "_view_count": null,
            "flex_flow": null,
            "width": null,
            "min_width": null,
            "border": null,
            "align_items": null,
            "bottom": null,
            "_model_module": "@jupyter-widgets/base",
            "top": null,
            "grid_column": null,
            "overflow_y": null,
            "overflow_x": null,
            "grid_auto_flow": null,
            "grid_area": null,
            "grid_template_columns": null,
            "flex": null,
            "_model_name": "LayoutModel",
            "justify_items": null,
            "grid_row": null,
            "max_height": null,
            "align_content": null,
            "visibility": null,
            "align_self": null,
            "height": null,
            "min_height": null,
            "padding": null,
            "grid_auto_rows": null,
            "grid_gap": null,
            "max_width": null,
            "order": null,
            "_view_module_version": "1.2.0",
            "grid_template_areas": null,
            "object_position": null,
            "object_fit": null,
            "grid_auto_columns": null,
            "margin": null,
            "display": null,
            "left": null
          }
        }
      }
    }
  },
  "cells": [
    {
      "cell_type": "code",
      "metadata": {
        "id": "cN0kT1DU0pda"
      },
      "source": [
        "import torch\n",
        "import torch.nn as nn\n",
        "import torchvision.datasets as dset\n",
        "import torchvision.transforms as transforms\n",
        "from torch.utils.data import DataLoader\n",
        "from torch.autograd import Variable\n",
        "import matplotlib.pyplot as plt\n",
        "%matplotlib inline"
      ],
      "execution_count": 1,
      "outputs": []
    },
    {
      "cell_type": "code",
      "metadata": {
        "colab": {
          "base_uri": "https://localhost:8080/",
          "height": 845,
          "referenced_widgets": [
            "083f5a665eb445e493c45f62a40005a2",
            "c67e0aec991a41d7a00404d3c239ebcf",
            "0a83ab401f864077a349dd0f04e6a0f2",
            "b16a59392c854a99bbe554c90df93beb",
            "bc586d9b3589474c81c4b7fee0538a07",
            "f995c1f1861a448c971cd90a2dc98458",
            "bba2f224b10148fa820f6b1c387275e7",
            "6f350f2fe36a415fbf5eb95334737ecf",
            "7fe750db80144996917d69ac93dc3ded",
            "6ee73636e7014b6ba013c18072f08132",
            "1930602d24b8485fa76d8125d18ac2d3",
            "3d4e864cf57e461ca0419c9b73316cab",
            "461f30e8fd22463a9fa61db3fc0612c1",
            "6bfed932550547418bbd69c83ddca3a0",
            "f1b257797cf14d92a7f673b84abfdb6f",
            "62b4e5a22fbf426498f52e822643e2d0",
            "bcf5bfbb980c4d258ec0fec1be2d8432",
            "2d029f9183ea4dc39f1b8844d94d9a99",
            "96d9094afd4240dabb249db60d0fd06a",
            "e1838a464a2b4c939edb5de121211f96",
            "2f1d65defec2416593d6c7973504b86b",
            "622fa62d1da54526a6786262b5755da8",
            "fb3854b8d11b4bc585a42a906a0dc529",
            "3c13f4101b454e61808422cf1148fcf9",
            "2cdc342a1dc94ffdbf52b67de22760fc",
            "96785820fd654fac83cfc3e955e85e8d",
            "c76e3b79ce5c4eb89d3d6e37a53a246c",
            "0f25de1db77142dca5bcd3c45122e201",
            "43e9013ad3ad4d4d9e965228766bbf7e",
            "4493c903ed15488b8f744cce737b005d",
            "63c5279592c248b58db1c3eab577db6f",
            "9f26d266d07243f482a1d9bbd3e6033a"
          ]
        },
        "id": "Tq0Yfiog1JCg",
        "outputId": "d125159d-23dc-49a7-8927-f60c16ee6491"
      },
      "source": [
        "mnist_train = dset.MNIST('',train=True,transform=transforms.ToTensor(), target_transform=None, download=True)\n",
        "mnist_test = mnist_train = dset.MNIST('',train=False,transform=transforms.ToTensor(), target_transform=None, download=True)"
      ],
      "execution_count": 2,
      "outputs": [
        {
          "output_type": "stream",
          "text": [
            "Downloading http://yann.lecun.com/exdb/mnist/train-images-idx3-ubyte.gz\n",
            "Failed to download (trying next):\n",
            "HTTP Error 503: Service Unavailable\n",
            "\n",
            "Downloading https://ossci-datasets.s3.amazonaws.com/mnist/train-images-idx3-ubyte.gz\n",
            "Downloading https://ossci-datasets.s3.amazonaws.com/mnist/train-images-idx3-ubyte.gz to MNIST/raw/train-images-idx3-ubyte.gz\n"
          ],
          "name": "stdout"
        },
        {
          "output_type": "display_data",
          "data": {
            "application/vnd.jupyter.widget-view+json": {
              "model_id": "083f5a665eb445e493c45f62a40005a2",
              "version_minor": 0,
              "version_major": 2
            },
            "text/plain": [
              "HBox(children=(FloatProgress(value=0.0, max=9912422.0), HTML(value='')))"
            ]
          },
          "metadata": {
            "tags": []
          }
        },
        {
          "output_type": "stream",
          "text": [
            "\n",
            "Extracting MNIST/raw/train-images-idx3-ubyte.gz to MNIST/raw\n",
            "\n",
            "Downloading http://yann.lecun.com/exdb/mnist/train-labels-idx1-ubyte.gz\n",
            "Failed to download (trying next):\n",
            "HTTP Error 503: Service Unavailable\n",
            "\n",
            "Downloading https://ossci-datasets.s3.amazonaws.com/mnist/train-labels-idx1-ubyte.gz\n",
            "Downloading https://ossci-datasets.s3.amazonaws.com/mnist/train-labels-idx1-ubyte.gz to MNIST/raw/train-labels-idx1-ubyte.gz\n"
          ],
          "name": "stdout"
        },
        {
          "output_type": "display_data",
          "data": {
            "application/vnd.jupyter.widget-view+json": {
              "model_id": "7fe750db80144996917d69ac93dc3ded",
              "version_minor": 0,
              "version_major": 2
            },
            "text/plain": [
              "HBox(children=(FloatProgress(value=0.0, max=28881.0), HTML(value='')))"
            ]
          },
          "metadata": {
            "tags": []
          }
        },
        {
          "output_type": "stream",
          "text": [
            "\n",
            "Extracting MNIST/raw/train-labels-idx1-ubyte.gz to MNIST/raw\n",
            "\n",
            "Downloading http://yann.lecun.com/exdb/mnist/t10k-images-idx3-ubyte.gz\n",
            "Failed to download (trying next):\n",
            "HTTP Error 503: Service Unavailable\n",
            "\n",
            "Downloading https://ossci-datasets.s3.amazonaws.com/mnist/t10k-images-idx3-ubyte.gz\n",
            "Downloading https://ossci-datasets.s3.amazonaws.com/mnist/t10k-images-idx3-ubyte.gz to MNIST/raw/t10k-images-idx3-ubyte.gz\n"
          ],
          "name": "stdout"
        },
        {
          "output_type": "display_data",
          "data": {
            "application/vnd.jupyter.widget-view+json": {
              "model_id": "bcf5bfbb980c4d258ec0fec1be2d8432",
              "version_minor": 0,
              "version_major": 2
            },
            "text/plain": [
              "HBox(children=(FloatProgress(value=0.0, max=1648877.0), HTML(value='')))"
            ]
          },
          "metadata": {
            "tags": []
          }
        },
        {
          "output_type": "stream",
          "text": [
            "\n",
            "Extracting MNIST/raw/t10k-images-idx3-ubyte.gz to MNIST/raw\n",
            "\n",
            "Downloading http://yann.lecun.com/exdb/mnist/t10k-labels-idx1-ubyte.gz\n",
            "Failed to download (trying next):\n",
            "HTTP Error 503: Service Unavailable\n",
            "\n",
            "Downloading https://ossci-datasets.s3.amazonaws.com/mnist/t10k-labels-idx1-ubyte.gz\n",
            "Downloading https://ossci-datasets.s3.amazonaws.com/mnist/t10k-labels-idx1-ubyte.gz to MNIST/raw/t10k-labels-idx1-ubyte.gz\n"
          ],
          "name": "stdout"
        },
        {
          "output_type": "display_data",
          "data": {
            "application/vnd.jupyter.widget-view+json": {
              "model_id": "2cdc342a1dc94ffdbf52b67de22760fc",
              "version_minor": 0,
              "version_major": 2
            },
            "text/plain": [
              "HBox(children=(FloatProgress(value=0.0, max=4542.0), HTML(value='')))"
            ]
          },
          "metadata": {
            "tags": []
          }
        },
        {
          "output_type": "stream",
          "text": [
            "\n",
            "Extracting MNIST/raw/t10k-labels-idx1-ubyte.gz to MNIST/raw\n",
            "\n",
            "Processing...\n",
            "Done!\n"
          ],
          "name": "stdout"
        },
        {
          "output_type": "stream",
          "text": [
            "/usr/local/lib/python3.7/dist-packages/torchvision/datasets/mnist.py:502: UserWarning: The given NumPy array is not writeable, and PyTorch does not support non-writeable tensors. This means you can write to the underlying (supposedly non-writeable) NumPy array using the tensor. You may want to copy the array to protect its data or make it writeable before converting it to a tensor. This type of warning will be suppressed for the rest of this program. (Triggered internally at  /pytorch/torch/csrc/utils/tensor_numpy.cpp:143.)\n",
            "  return torch.from_numpy(parsed.astype(m[2], copy=False)).view(*s)\n"
          ],
          "name": "stderr"
        }
      ]
    },
    {
      "cell_type": "code",
      "metadata": {
        "colab": {
          "base_uri": "https://localhost:8080/",
          "height": 349
        },
        "id": "rN_3C0hy1ZYr",
        "outputId": "428c8f1f-ec00-491d-dec3-f017ec837a9e"
      },
      "source": [
        "print(\"mnist_train 길이:\",len(mnist_train))\n",
        "print('mnist_test 길이:',len(mnist_test))\n",
        "\n",
        "img,label = mnist_train.__getitem__(0)\n",
        "print('image data 형태:',img.size())\n",
        "print('label:',label)\n",
        "\n",
        "plt.title('label : %d'%label)\n",
        "plt.imshow(img[0],cmap='gray')\n",
        "plt.show()"
      ],
      "execution_count": 3,
      "outputs": [
        {
          "output_type": "stream",
          "text": [
            "mnist_train 길이: 10000\n",
            "mnist_test 길이: 10000\n",
            "image data 형태: torch.Size([1, 28, 28])\n",
            "label: 7\n"
          ],
          "name": "stdout"
        },
        {
          "output_type": "display_data",
          "data": {
            "image/png": "[encoded data removed]",
            "text/plain": [
              "<Figure size 432x288 with 1 Axes>"
            ]
          },
          "metadata": {
            "tags": [],
            "needs_background": "light"
          }
        }
      ]
    },
    {
      "cell_type": "code",
      "metadata": {
        "colab": {
          "base_uri": "https://localhost:8080/",
          "height": 846
        },
        "id": "HufVh-K82Bvj",
        "outputId": "843a0d13-3ada-43f1-d698-6caa53d44bf5"
      },
      "source": [
        "print(mnist_train[0][1])\n",
        "print(mnist_train[0][0].size())\n",
        "\n",
        "for i in range(3):\n",
        "  img = mnist_train[i][0]\n",
        "  print(mnist_train[i][1])\n",
        "  plt.imshow(img[0],cmap='gray')\n",
        "  plt.show()"
      ],
      "execution_count": 4,
      "outputs": [
        {
          "output_type": "stream",
          "text": [
            "7\n",
            "torch.Size([1, 28, 28])\n",
            "7\n"
          ],
          "name": "stdout"
        },
        {
          "output_type": "display_data",
          "data": {
            "image/png": "[encoded data removed]",
            "text/plain": [
              "<Figure size 432x288 with 1 Axes>"
            ]
          },
          "metadata": {
            "tags": [],
            "needs_background": "light"
          }
        },
        {
          "output_type": "stream",
          "text": [
            "2\n"
          ],
          "name": "stdout"
        },
        {
          "output_type": "display_data",
          "data": {
            "image/png": "[encoded data removed]",
            "text/plain": [
              "<Figure size 432x288 with 1 Axes>"
            ]
          },
          "metadata": {
            "tags": [],
            "needs_background": "light"
          }
        },
        {
          "output_type": "stream",
          "text": [
            "1\n"
          ],
          "name": "stdout"
        },
        {
          "output_type": "display_data",
          "data": {
            "image/png": "[encoded data removed]",
            "text/plain": [
              "<Figure size 432x288 with 1 Axes>"
            ]
          },
          "metadata": {
            "tags": [],
            "needs_background": "light"
          }
        }
      ]
    },
    {
      "cell_type": "code",
      "metadata": {
        "colab": {
          "base_uri": "https://localhost:8080/",
          "height": 812
        },
        "id": "SCKGWmaq2YNn",
        "outputId": "66ce0d56-7e5b-4559-8efb-1c2a5a4b8dea"
      },
      "source": [
        "img,label = mnist_train[0]\n",
        "\n",
        "img = img.unsqueeze(0)\n",
        "print(img.shape)\n",
        "\n",
        "print(label)\n",
        "\n",
        "conv_layer = nn.Conv2d(1,3,kernel_size=3,stride=1)\n",
        "output = conv_layer(Variable(img))\n",
        "print(output.shape)\n",
        "\n",
        "for i in range(3):\n",
        "  plt.imshow(output[0,i,:,:].data.numpy(),cmap='gray')\n",
        "  plt.show()"
      ],
      "execution_count": 5,
      "outputs": [
        {
          "output_type": "stream",
          "text": [
            "torch.Size([1, 1, 28, 28])\n",
            "7\n",
            "torch.Size([1, 3, 26, 26])\n"
          ],
          "name": "stdout"
        },
        {
          "output_type": "display_data",
          "data": {
            "image/png": "[encoded data removed]",
            "text/plain": [
              "<Figure size 432x288 with 1 Axes>"
            ]
          },
          "metadata": {
            "tags": [],
            "needs_background": "light"
          }
        },
        {
          "output_type": "display_data",
          "data": {
            "image/png": "[encoded data removed]",
            "text/plain": [
              "<Figure size 432x288 with 1 Axes>"
            ]
          },
          "metadata": {
            "tags": [],
            "needs_background": "light"
          }
        },
        {
          "output_type": "display_data",
          "data": {
            "image/png": "[encoded data removed]",
            "text/plain": [
              "<Figure size 432x288 with 1 Axes>"
            ]
          },
          "metadata": {
            "tags": [],
            "needs_background": "light"
          }
        }
      ]
    },
    {
      "cell_type": "code",
      "metadata": {
        "id": "Wu9Pc7pO3WVI"
      },
      "source": [
        "import numpy as np\n",
        "import torch.optim as optim\n",
        "\n",
        "batch_size = 16\n",
        "learning_rate = 0.0002\n",
        "epoch = 10"
      ],
      "execution_count": 17,
      "outputs": []
    },
    {
      "cell_type": "code",
      "metadata": {
        "id": "_4OxWqUh3eld"
      },
      "source": [
        "train_loader = DataLoader(mnist_train,batch_size=batch_size,shuffle=True, num_workers=2,drop_last=True)\n",
        "test_loader = DataLoader(mnist_test,batch_size=batch_size,shuffle=False,num_workers=2,drop_last=True)\\"
      ],
      "execution_count": 7,
      "outputs": []
    },
    {
      "cell_type": "code",
      "metadata": {
        "id": "HAoozH1_3MRE"
      },
      "source": [
        "class CNN(nn.Module):\n",
        "  def __init__(self):\n",
        "    super(CNN,self).__init__()\n",
        "    self.layer = nn.Sequential(\n",
        "        nn.Conv2d(1,16,5,padding=2),\n",
        "        nn.ReLU(),\n",
        "        \n",
        "        nn.Conv2d(16,32,5,padding=2),\n",
        "        nn.ReLU(),\n",
        "        nn.MaxPool2d(2,2),\n",
        "\n",
        "        nn.Conv2d(32,64,5,padding=2),\n",
        "        nn.ReLU(),\n",
        "        nn.MaxPool2d(2,2)\n",
        "    )\n",
        "    self.fc_layer=nn.Sequential(\n",
        "        nn.Linear(64*7*7, 100),\n",
        "        nn.ReLU(),\n",
        "        nn.Linear(100,10)\n",
        "    )\n",
        "\n",
        "  def forward(self,x):\n",
        "    out = self.layer(x)\n",
        "    out = out.view(batch_size,-1)\n",
        "    out = self.fc_layer(out)\n",
        "\n",
        "    return out\n",
        "\n",
        "model = CNN().cuda()"
      ],
      "execution_count": 14,
      "outputs": []
    },
    {
      "cell_type": "code",
      "metadata": {
        "colab": {
          "base_uri": "https://localhost:8080/"
        },
        "id": "hkP0CMFX4xPn",
        "outputId": "5616bcfe-cc03-4d16-8096-0f2ac97c4c1e"
      },
      "source": [
        "for parameter in model.parameters():\n",
        "  print(parameter.shape)"
      ],
      "execution_count": 9,
      "outputs": [
        {
          "output_type": "stream",
          "text": [
            "torch.Size([16, 1, 5, 5])\n",
            "torch.Size([16])\n",
            "torch.Size([32, 16, 5, 5])\n",
            "torch.Size([32])\n",
            "torch.Size([64, 32, 5, 5])\n",
            "torch.Size([64])\n",
            "torch.Size([100, 3136])\n",
            "torch.Size([100])\n",
            "torch.Size([10, 100])\n",
            "torch.Size([10])\n"
          ],
          "name": "stdout"
        }
      ]
    },
    {
      "cell_type": "code",
      "metadata": {
        "colab": {
          "base_uri": "https://localhost:8080/"
        },
        "id": "uTNCoWi15DMd",
        "outputId": "fc429a25-92df-42bd-e58c-e302548509a7"
      },
      "source": [
        "loss_func = nn.CrossEntropyLoss()\n",
        "optimizer = optim.Adam(model.parameters(),lr = learning_rate)\n",
        "\n",
        "for i in range(epoch):\n",
        "  for j,(imgs,labels) in enumerate(train_loader):\n",
        "    imgs = Variable(imgs).cuda()\n",
        "    labels = Variable(labels).cuda()\n",
        "\n",
        "    optimizer.zero_grad()\n",
        "    output= model.forward(imgs)\n",
        "    loss = loss_func(output,labels)\n",
        "    loss.backward()\n",
        "    optimizer.step()\n",
        "\n",
        "    if j%50==0:\n",
        "      print(loss,j,i)"
      ],
      "execution_count": 25,
      "outputs": [
        {
          "output_type": "stream",
          "text": [
            "tensor(2.3271, device='cuda:0', grad_fn=<NllLossBackward>) 0 0\n",
            "tensor(1.6887, device='cuda:0', grad_fn=<NllLossBackward>) 50 0\n",
            "tensor(1.0377, device='cuda:0', grad_fn=<NllLossBackward>) 100 0\n",
            "tensor(0.5834, device='cuda:0', grad_fn=<NllLossBackward>) 150 0\n",
            "tensor(0.4241, device='cuda:0', grad_fn=<NllLossBackward>) 200 0\n",
            "tensor(0.4936, device='cuda:0', grad_fn=<NllLossBackward>) 250 0\n",
            "tensor(0.1600, device='cuda:0', grad_fn=<NllLossBackward>) 300 0\n",
            "tensor(0.2309, device='cuda:0', grad_fn=<NllLossBackward>) 350 0\n",
            "tensor(0.3398, device='cuda:0', grad_fn=<NllLossBackward>) 400 0\n",
            "tensor(0.1480, device='cuda:0', grad_fn=<NllLossBackward>) 450 0\n",
            "tensor(0.0660, device='cuda:0', grad_fn=<NllLossBackward>) 500 0\n",
            "tensor(0.0734, device='cuda:0', grad_fn=<NllLossBackward>) 550 0\n",
            "tensor(0.1452, device='cuda:0', grad_fn=<NllLossBackward>) 600 0\n",
            "tensor(0.2513, device='cuda:0', grad_fn=<NllLossBackward>) 0 1\n",
            "tensor(0.1165, device='cuda:0', grad_fn=<NllLossBackward>) 50 1\n",
            "tensor(0.1332, device='cuda:0', grad_fn=<NllLossBackward>) 100 1\n",
            "tensor(0.1431, device='cuda:0', grad_fn=<NllLossBackward>) 150 1\n",
            "tensor(0.6934, device='cuda:0', grad_fn=<NllLossBackward>) 200 1\n",
            "tensor(0.0700, device='cuda:0', grad_fn=<NllLossBackward>) 250 1\n",
            "tensor(0.0828, device='cuda:0', grad_fn=<NllLossBackward>) 300 1\n",
            "tensor(0.0546, device='cuda:0', grad_fn=<NllLossBackward>) 350 1\n",
            "tensor(0.4067, device='cuda:0', grad_fn=<NllLossBackward>) 400 1\n",
            "tensor(0.1046, device='cuda:0', grad_fn=<NllLossBackward>) 450 1\n",
            "tensor(0.0406, device='cuda:0', grad_fn=<NllLossBackward>) 500 1\n",
            "tensor(0.0567, device='cuda:0', grad_fn=<NllLossBackward>) 550 1\n",
            "tensor(0.2659, device='cuda:0', grad_fn=<NllLossBackward>) 600 1\n",
            "tensor(0.0302, device='cuda:0', grad_fn=<NllLossBackward>) 0 2\n",
            "tensor(0.2472, device='cuda:0', grad_fn=<NllLossBackward>) 50 2\n",
            "tensor(0.0384, device='cuda:0', grad_fn=<NllLossBackward>) 100 2\n",
            "tensor(0.3295, device='cuda:0', grad_fn=<NllLossBackward>) 150 2\n",
            "tensor(0.0616, device='cuda:0', grad_fn=<NllLossBackward>) 200 2\n",
            "tensor(0.0131, device='cuda:0', grad_fn=<NllLossBackward>) 250 2\n",
            "tensor(0.2222, device='cuda:0', grad_fn=<NllLossBackward>) 300 2\n",
            "tensor(0.0081, device='cuda:0', grad_fn=<NllLossBackward>) 350 2\n",
            "tensor(0.0383, device='cuda:0', grad_fn=<NllLossBackward>) 400 2\n",
            "tensor(0.0197, device='cuda:0', grad_fn=<NllLossBackward>) 450 2\n",
            "tensor(0.0070, device='cuda:0', grad_fn=<NllLossBackward>) 500 2\n",
            "tensor(0.0331, device='cuda:0', grad_fn=<NllLossBackward>) 550 2\n",
            "tensor(0.0019, device='cuda:0', grad_fn=<NllLossBackward>) 600 2\n",
            "tensor(0.0915, device='cuda:0', grad_fn=<NllLossBackward>) 0 3\n",
            "tensor(0.0408, device='cuda:0', grad_fn=<NllLossBackward>) 50 3\n",
            "tensor(0.0499, device='cuda:0', grad_fn=<NllLossBackward>) 100 3\n",
            "tensor(0.3811, device='cuda:0', grad_fn=<NllLossBackward>) 150 3\n",
            "tensor(0.0059, device='cuda:0', grad_fn=<NllLossBackward>) 200 3\n",
            "tensor(0.0641, device='cuda:0', grad_fn=<NllLossBackward>) 250 3\n",
            "tensor(0.0015, device='cuda:0', grad_fn=<NllLossBackward>) 300 3\n",
            "tensor(0.0156, device='cuda:0', grad_fn=<NllLossBackward>) 350 3\n",
            "tensor(0.0164, device='cuda:0', grad_fn=<NllLossBackward>) 400 3\n",
            "tensor(0.0444, device='cuda:0', grad_fn=<NllLossBackward>) 450 3\n",
            "tensor(0.0130, device='cuda:0', grad_fn=<NllLossBackward>) 500 3\n",
            "tensor(0.0026, device='cuda:0', grad_fn=<NllLossBackward>) 550 3\n",
            "tensor(0.0005, device='cuda:0', grad_fn=<NllLossBackward>) 600 3\n",
            "tensor(0.0025, device='cuda:0', grad_fn=<NllLossBackward>) 0 4\n",
            "tensor(0.0479, device='cuda:0', grad_fn=<NllLossBackward>) 50 4\n",
            "tensor(0.0608, device='cuda:0', grad_fn=<NllLossBackward>) 100 4\n",
            "tensor(0.0666, device='cuda:0', grad_fn=<NllLossBackward>) 150 4\n",
            "tensor(0.0019, device='cuda:0', grad_fn=<NllLossBackward>) 200 4\n",
            "tensor(0.0884, device='cuda:0', grad_fn=<NllLossBackward>) 250 4\n",
            "tensor(0.0007, device='cuda:0', grad_fn=<NllLossBackward>) 300 4\n",
            "tensor(0.0008, device='cuda:0', grad_fn=<NllLossBackward>) 350 4\n",
            "tensor(0.0059, device='cuda:0', grad_fn=<NllLossBackward>) 400 4\n",
            "tensor(0.0008, device='cuda:0', grad_fn=<NllLossBackward>) 450 4\n",
            "tensor(0.0088, device='cuda:0', grad_fn=<NllLossBackward>) 500 4\n",
            "tensor(0.0889, device='cuda:0', grad_fn=<NllLossBackward>) 550 4\n",
            "tensor(0.0152, device='cuda:0', grad_fn=<NllLossBackward>) 600 4\n",
            "tensor(0.0025, device='cuda:0', grad_fn=<NllLossBackward>) 0 5\n",
            "tensor(0.0196, device='cuda:0', grad_fn=<NllLossBackward>) 50 5\n",
            "tensor(0.0334, device='cuda:0', grad_fn=<NllLossBackward>) 100 5\n",
            "tensor(0.0015, device='cuda:0', grad_fn=<NllLossBackward>) 150 5\n",
            "tensor(0.0208, device='cuda:0', grad_fn=<NllLossBackward>) 200 5\n",
            "tensor(0.0019, device='cuda:0', grad_fn=<NllLossBackward>) 250 5\n",
            "tensor(0.0133, device='cuda:0', grad_fn=<NllLossBackward>) 300 5\n",
            "tensor(0.0063, device='cuda:0', grad_fn=<NllLossBackward>) 350 5\n",
            "tensor(0.0016, device='cuda:0', grad_fn=<NllLossBackward>) 400 5\n",
            "tensor(0.0011, device='cuda:0', grad_fn=<NllLossBackward>) 450 5\n",
            "tensor(0.0592, device='cuda:0', grad_fn=<NllLossBackward>) 500 5\n",
            "tensor(0.0567, device='cuda:0', grad_fn=<NllLossBackward>) 550 5\n",
            "tensor(0.0343, device='cuda:0', grad_fn=<NllLossBackward>) 600 5\n",
            "tensor(0.0041, device='cuda:0', grad_fn=<NllLossBackward>) 0 6\n",
            "tensor(0.0015, device='cuda:0', grad_fn=<NllLossBackward>) 50 6\n",
            "tensor(0.0008, device='cuda:0', grad_fn=<NllLossBackward>) 100 6\n",
            "tensor(0.0039, device='cuda:0', grad_fn=<NllLossBackward>) 150 6\n",
            "tensor(0.0151, device='cuda:0', grad_fn=<NllLossBackward>) 200 6\n",
            "tensor(0.0063, device='cuda:0', grad_fn=<NllLossBackward>) 250 6\n",
            "tensor(0.0042, device='cuda:0', grad_fn=<NllLossBackward>) 300 6\n",
            "tensor(0.0050, device='cuda:0', grad_fn=<NllLossBackward>) 350 6\n",
            "tensor(0.0026, device='cuda:0', grad_fn=<NllLossBackward>) 400 6\n",
            "tensor(0.0002, device='cuda:0', grad_fn=<NllLossBackward>) 450 6\n",
            "tensor(0.0027, device='cuda:0', grad_fn=<NllLossBackward>) 500 6\n",
            "tensor(0.0020, device='cuda:0', grad_fn=<NllLossBackward>) 550 6\n",
            "tensor(0.0025, device='cuda:0', grad_fn=<NllLossBackward>) 600 6\n",
            "tensor(0.0110, device='cuda:0', grad_fn=<NllLossBackward>) 0 7\n",
            "tensor(0.0072, device='cuda:0', grad_fn=<NllLossBackward>) 50 7\n",
            "tensor(0.0011, device='cuda:0', grad_fn=<NllLossBackward>) 100 7\n",
            "tensor(0.1353, device='cuda:0', grad_fn=<NllLossBackward>) 150 7\n",
            "tensor(0.0067, device='cuda:0', grad_fn=<NllLossBackward>) 200 7\n",
            "tensor(0.0098, device='cuda:0', grad_fn=<NllLossBackward>) 250 7\n",
            "tensor(0.0038, device='cuda:0', grad_fn=<NllLossBackward>) 300 7\n",
            "tensor(0.0044, device='cuda:0', grad_fn=<NllLossBackward>) 350 7\n",
            "tensor(0.0004, device='cuda:0', grad_fn=<NllLossBackward>) 400 7\n",
            "tensor(0.0738, device='cuda:0', grad_fn=<NllLossBackward>) 450 7\n",
            "tensor(0.0030, device='cuda:0', grad_fn=<NllLossBackward>) 500 7\n",
            "tensor(0.0156, device='cuda:0', grad_fn=<NllLossBackward>) 550 7\n",
            "tensor(0.0091, device='cuda:0', grad_fn=<NllLossBackward>) 600 7\n",
            "tensor(0.0016, device='cuda:0', grad_fn=<NllLossBackward>) 0 8\n",
            "tensor(9.9108e-05, device='cuda:0', grad_fn=<NllLossBackward>) 50 8\n",
            "tensor(0.0001, device='cuda:0', grad_fn=<NllLossBackward>) 100 8\n",
            "tensor(0.0006, device='cuda:0', grad_fn=<NllLossBackward>) 150 8\n",
            "tensor(0.0029, device='cuda:0', grad_fn=<NllLossBackward>) 200 8\n",
            "tensor(0.0007, device='cuda:0', grad_fn=<NllLossBackward>) 250 8\n",
            "tensor(0.0006, device='cuda:0', grad_fn=<NllLossBackward>) 300 8\n",
            "tensor(0.0004, device='cuda:0', grad_fn=<NllLossBackward>) 350 8\n",
            "tensor(6.6073e-05, device='cuda:0', grad_fn=<NllLossBackward>) 400 8\n",
            "tensor(0.0267, device='cuda:0', grad_fn=<NllLossBackward>) 450 8\n",
            "tensor(0.0013, device='cuda:0', grad_fn=<NllLossBackward>) 500 8\n",
            "tensor(4.5451e-05, device='cuda:0', grad_fn=<NllLossBackward>) 550 8\n",
            "tensor(0.0004, device='cuda:0', grad_fn=<NllLossBackward>) 600 8\n",
            "tensor(0.6638, device='cuda:0', grad_fn=<NllLossBackward>) 0 9\n",
            "tensor(0.0017, device='cuda:0', grad_fn=<NllLossBackward>) 50 9\n",
            "tensor(0.0267, device='cuda:0', grad_fn=<NllLossBackward>) 100 9\n",
            "tensor(0.0003, device='cuda:0', grad_fn=<NllLossBackward>) 150 9\n",
            "tensor(0.0012, device='cuda:0', grad_fn=<NllLossBackward>) 200 9\n",
            "tensor(0.0001, device='cuda:0', grad_fn=<NllLossBackward>) 250 9\n",
            "tensor(9.7374e-06, device='cuda:0', grad_fn=<NllLossBackward>) 300 9\n",
            "tensor(0.0054, device='cuda:0', grad_fn=<NllLossBackward>) 350 9\n",
            "tensor(0.0004, device='cuda:0', grad_fn=<NllLossBackward>) 400 9\n",
            "tensor(6.4471e-05, device='cuda:0', grad_fn=<NllLossBackward>) 450 9\n",
            "tensor(0.0002, device='cuda:0', grad_fn=<NllLossBackward>) 500 9\n",
            "tensor(0.0019, device='cuda:0', grad_fn=<NllLossBackward>) 550 9\n",
            "tensor(0.0072, device='cuda:0', grad_fn=<NllLossBackward>) 600 9\n"
          ],
          "name": "stdout"
        }
      ]
    },
    {
      "cell_type": "code",
      "metadata": {
        "id": "v-n2gSIAkrir"
      },
      "source": [
        "torch.save(model,'nets/mycnn_model_%d.pkl'%(epoch))"
      ],
      "execution_count": 21,
      "outputs": []
    },
    {
      "cell_type": "code",
      "metadata": {
        "colab": {
          "base_uri": "https://localhost:8080/"
        },
        "id": "lLQoc5bilBy2",
        "outputId": "e3cac6af-c650-4f87-8deb-9115cab3e1fd"
      },
      "source": [
        "try:\n",
        "  model = torch.load('nets/mycnn_model_10.pkl')\n",
        "  print('model restored')\n",
        "except:\n",
        "  print('model not restored')\n"
      ],
      "execution_count": 22,
      "outputs": [
        {
          "output_type": "stream",
          "text": [
            "model restored\n"
          ],
          "name": "stdout"
        }
      ]
    },
    {
      "cell_type": "code",
      "metadata": {
        "id": "-5jH1K155hCl"
      },
      "source": [
        "def ComputeAccr(dloader, imodel):\n",
        "    correct = 0\n",
        "    total = 0\n",
        "    with torch.no_grad():\n",
        "        for i, (imgs, labels) in enumerate(dloader):\n",
        "            img = Variable(imgs).cuda()\n",
        "            label = Variable(labels).cuda()\n",
        "\n",
        "            output = imodel.forward(img)\n",
        "            _, output_index = torch.max(output,1)\n",
        "\n",
        "            total+=label.size(0)\n",
        "            correct+=(output_index==label).sum().float()\n",
        "\n",
        "        print('Accuracy of Test Data: {}'.format(100*correct/total))"
      ],
      "execution_count": 23,
      "outputs": []
    },
    {
      "cell_type": "code",
      "metadata": {
        "colab": {
          "base_uri": "https://localhost:8080/"
        },
        "id": "qMgjIHUulZyW",
        "outputId": "7df9cec6-109e-4acf-eafb-2da0aed94530"
      },
      "source": [
        "ComputeAccr(test_loader,model)"
      ],
      "execution_count": 26,
      "outputs": [
        {
          "output_type": "stream",
          "text": [
            "Accuracy of Test Data: 99.90999603271484\n"
          ],
          "name": "stdout"
        }
      ]
    }
  ]
}